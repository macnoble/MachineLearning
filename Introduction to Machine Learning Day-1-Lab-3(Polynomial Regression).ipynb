{
 "cells": [
  {
   "cell_type": "code",
   "execution_count": 3,
   "id": "86d4730a",
   "metadata": {},
   "outputs": [],
   "source": [
    "import os"
   ]
  },
  {
   "cell_type": "code",
   "execution_count": 4,
   "id": "c499121e",
   "metadata": {},
   "outputs": [],
   "source": [
    "def prepare_country_stats(oecd_bli, gdp_per_capita):\n",
    "    oecd_bli = oecd_bli[oecd_bli[\"INEQUALITY\"]==\"TOT\"]\n",
    "    oecd_bli = oecd_bli.pivot(index=\"Country\", columns=\"Indicator\", values=\"Value\")\n",
    "    gdp_per_capita.rename(columns={\"2015\": \"GDP per capita\"}, inplace=True)\n",
    "    gdp_per_capita.set_index(\"Country\", inplace=True)\n",
    "    full_country_stats = pd.merge(left=oecd_bli, right=gdp_per_capita,\n",
    "                                  left_index=True, right_index=True)\n",
    "    full_country_stats.sort_values(by=\"GDP per capita\", inplace=True)\n",
    "    remove_indices = [0, 1, 6,8, 33, 34, 35]\n",
    "    remove_indices = []\n",
    "    keep_indices = list(set(range(36)) - set(remove_indices))\n",
    "    return full_country_stats[[\"GDP per capita\", 'Life satisfaction' , 'Household net adjusted disposable income','Household net financial wealth']].iloc[keep_indices]\n",
    "   "
   ]
  },
  {
   "cell_type": "code",
   "execution_count": 5,
   "id": "64330536",
   "metadata": {},
   "outputs": [],
   "source": [
    "datapath = os.path.join(\"datasets\", \"lifesat\", \"\")"
   ]
  },
  {
   "cell_type": "code",
   "execution_count": 6,
   "id": "23dff447",
   "metadata": {},
   "outputs": [
    {
     "name": "stdout",
     "output_type": "stream",
     "text": [
      "Downloading oecd_bli_2015.csv\n",
      "Downloading gdp_per_capita.csv\n"
     ]
    }
   ],
   "source": [
    "import urllib.request\n",
    "DOWNLOAD_ROOT = \"https://raw.githubusercontent.com/ageron/handson-ml2/master/\"\n",
    "os.makedirs(datapath, exist_ok=True)\n",
    "for filename in (\"oecd_bli_2015.csv\", \"gdp_per_capita.csv\"):\n",
    "    print(\"Downloading\", filename)\n",
    "    url = DOWNLOAD_ROOT + \"datasets/lifesat/\" + filename\n",
    "    urllib.request.urlretrieve(url, datapath + filename)"
   ]
  },
  {
   "cell_type": "code",
   "execution_count": 12,
   "id": "c6e8e3e3",
   "metadata": {},
   "outputs": [],
   "source": [
    "%matplotlib inline\n",
    "import matplotlib as mpl\n",
    "mpl.rc('axes', labelsize=14)\n",
    "mpl.rc('xtick', labelsize=10)\n",
    "mpl.rc('ytick', labelsize=10)"
   ]
  },
  {
   "cell_type": "code",
   "execution_count": 8,
   "id": "5592dc72",
   "metadata": {},
   "outputs": [
    {
     "name": "stdout",
     "output_type": "stream",
     "text": [
      "                 GDP per capita  Life satisfaction  \\\n",
      "Country                                              \n",
      "Brazil                 8669.998                7.0   \n",
      "Mexico                 9009.280                6.7   \n",
      "Russia                 9054.914                6.0   \n",
      "Turkey                 9437.372                5.6   \n",
      "Hungary               12239.894                4.9   \n",
      "Poland                12495.334                5.8   \n",
      "Chile                 13340.905                6.7   \n",
      "Slovak Republic       15991.736                6.1   \n",
      "Czech Republic        17256.918                6.5   \n",
      "Estonia               17288.083                5.6   \n",
      "Greece                18064.288                4.8   \n",
      "Portugal              19121.592                5.1   \n",
      "Slovenia              20732.482                5.7   \n",
      "Spain                 25864.721                6.5   \n",
      "Korea                 27195.197                5.8   \n",
      "Italy                 29866.581                6.0   \n",
      "Japan                 32485.545                5.9   \n",
      "Israel                35343.336                7.4   \n",
      "New Zealand           37044.891                7.3   \n",
      "France                37675.006                6.5   \n",
      "Belgium               40106.632                6.9   \n",
      "Germany               40996.511                7.0   \n",
      "Finland               41973.988                7.4   \n",
      "Canada                43331.961                7.3   \n",
      "Netherlands           43603.115                7.3   \n",
      "Austria               43724.031                6.9   \n",
      "United Kingdom        43770.688                6.8   \n",
      "Sweden                49866.266                7.2   \n",
      "Iceland               50854.583                7.5   \n",
      "Australia             50961.865                7.3   \n",
      "Ireland               51350.744                7.0   \n",
      "Denmark               52114.165                7.5   \n",
      "United States         55805.204                7.2   \n",
      "Norway                74822.106                7.4   \n",
      "Switzerland           80675.308                7.5   \n",
      "Luxembourg           101994.093                6.9   \n",
      "\n",
      "                 Household net adjusted disposable income  \\\n",
      "Country                                                     \n",
      "Brazil                                            11664.0   \n",
      "Mexico                                            13085.0   \n",
      "Russia                                            19292.0   \n",
      "Turkey                                            14095.0   \n",
      "Hungary                                           15442.0   \n",
      "Poland                                            17852.0   \n",
      "Chile                                             14533.0   \n",
      "Slovak Republic                                   17503.0   \n",
      "Czech Republic                                    18404.0   \n",
      "Estonia                                           15167.0   \n",
      "Greece                                            18575.0   \n",
      "Portugal                                          20086.0   \n",
      "Slovenia                                          19326.0   \n",
      "Spain                                             22477.0   \n",
      "Korea                                             19510.0   \n",
      "Italy                                             25166.0   \n",
      "Japan                                             26111.0   \n",
      "Israel                                            22104.0   \n",
      "New Zealand                                       23815.0   \n",
      "France                                            28799.0   \n",
      "Belgium                                           28307.0   \n",
      "Germany                                           31252.0   \n",
      "Finland                                           27927.0   \n",
      "Canada                                            29365.0   \n",
      "Netherlands                                       27888.0   \n",
      "Austria                                           31173.0   \n",
      "United Kingdom                                    27029.0   \n",
      "Sweden                                            29185.0   \n",
      "Iceland                                           23965.0   \n",
      "Australia                                         31588.0   \n",
      "Ireland                                           23917.0   \n",
      "Denmark                                           26491.0   \n",
      "United States                                     41355.0   \n",
      "Norway                                            33492.0   \n",
      "Switzerland                                       33491.0   \n",
      "Luxembourg                                        38951.0   \n",
      "\n",
      "                 Household net financial wealth  \n",
      "Country                                          \n",
      "Brazil                                   6844.0  \n",
      "Mexico                                   9056.0  \n",
      "Russia                                   3412.0  \n",
      "Turkey                                   3251.0  \n",
      "Hungary                                 13277.0  \n",
      "Poland                                  10919.0  \n",
      "Chile                                   17733.0  \n",
      "Slovak Republic                          8663.0  \n",
      "Czech Republic                          17299.0  \n",
      "Estonia                                  7680.0  \n",
      "Greece                                  14579.0  \n",
      "Portugal                                31245.0  \n",
      "Slovenia                                18465.0  \n",
      "Spain                                   24774.0  \n",
      "Korea                                   29091.0  \n",
      "Italy                                   54987.0  \n",
      "Japan                                   86764.0  \n",
      "Israel                                  52933.0  \n",
      "New Zealand                             28290.0  \n",
      "France                                  48741.0  \n",
      "Belgium                                 83876.0  \n",
      "Germany                                 50394.0  \n",
      "Finland                                 18761.0  \n",
      "Canada                                  67913.0  \n",
      "Netherlands                             77961.0  \n",
      "Austria                                 49887.0  \n",
      "United Kingdom                          60778.0  \n",
      "Sweden                                  60328.0  \n",
      "Iceland                                 43045.0  \n",
      "Australia                               47657.0  \n",
      "Ireland                                 31580.0  \n",
      "Denmark                                 44488.0  \n",
      "United States                          145769.0  \n",
      "Norway                                   8797.0  \n",
      "Switzerland                            108823.0  \n",
      "Luxembourg                              61765.0  \n"
     ]
    }
   ],
   "source": [
    "import matplotlib.pyplot as plt\n",
    "import numpy as np\n",
    "import pandas as pd\n",
    "import sklearn.linear_model\n",
    " \n",
    "# Load the data\n",
    "oecd_bli = pd.read_csv(datapath + \"oecd_bli_2015.csv\", thousands=',')\n",
    "gdp_per_capita = pd.read_csv(datapath + \"gdp_per_capita.csv\",thousands=',',delimiter='\\t',\n",
    "                             encoding='latin1', na_values=\"n/a\")\n",
    " \n",
    "# Prepare the data\n",
    "country_stats = prepare_country_stats(oecd_bli, gdp_per_capita)\n",
    "\n",
    "X =  np.c_[country_stats[\"GDP per capita\"],country_stats[\"Household net adjusted disposable income\"],country_stats['Household net financial wealth']]\n",
    "y =  np.c_[country_stats[\"Life satisfaction\"]]\n",
    "print(country_stats)"
   ]
  },
  {
   "cell_type": "code",
   "execution_count": 13,
   "id": "d652167c",
   "metadata": {},
   "outputs": [
    {
     "data": {
      "text/plain": [
       "<AxesSubplot:xlabel='Household net financial wealth', ylabel='Life satisfaction'>"
      ]
     },
     "execution_count": 13,
     "metadata": {},
     "output_type": "execute_result"
    },
    {
     "data": {
      "image/png": "[encoded data removed]",
      "text/plain": [
       "<Figure size 432x288 with 1 Axes>"
      ]
     },
     "metadata": {
      "needs_background": "light"
     },
     "output_type": "display_data"
    },
    {
     "data": {
      "image/png": "[encoded data removed]",
      "text/plain": [
       "<Figure size 432x288 with 1 Axes>"
      ]
     },
     "metadata": {
      "needs_background": "light"
     },
     "output_type": "display_data"
    },
    {
     "data": {
      "image/png": "[encoded data removed]",
      "text/plain": [
       "<Figure size 432x288 with 1 Axes>"
      ]
     },
     "metadata": {
      "needs_background": "light"
     },
     "output_type": "display_data"
    }
   ],
   "source": [
    "# Visualize the data\n",
    "country_stats.plot(kind='scatter', x=\"GDP per capita\", y='Life satisfaction')\n",
    "country_stats.plot(kind='scatter', x=\"Household net adjusted disposable income\", y='Life satisfaction')\n",
    "country_stats.plot(kind='scatter', x=\"Household net financial wealth\", y='Life satisfaction')"
   ]
  },
  {
   "cell_type": "code",
   "execution_count": 17,
   "id": "f2d352b3",
   "metadata": {},
   "outputs": [
    {
     "name": "stdout",
     "output_type": "stream",
     "text": [
      "[[10.61491686]]\n",
      "[[10.9842155]]\n"
     ]
    }
   ],
   "source": [
    "from sklearn.preprocessing import PolynomialFeatures\n",
    "from sklearn.linear_model import LinearRegression\n",
    "\n",
    "# Transforming the X data into a polynomial\n",
    "poly_features = PolynomialFeatures(degree=2)\n",
    "polyX = poly_features.fit_transform(X)\n",
    "\n",
    "# Definition of the model\n",
    "polyModel = LinearRegression()\n",
    "\n",
    "# Training of the model with the polynomialRegression\n",
    "polyModel.fit(polyX,y)\n",
    "\n",
    "# For 2015\n",
    "X_new = [[1784,1500,2000]]\n",
    "X_newPoly = poly_features.fit_transform(X_new)\n",
    "\n",
    "# Printing out the prediction\n",
    "print(polyModel.predict(X_newPoly))\n",
    "\n",
    "# For 2021\n",
    "X_now =  [[2312,1000,700]]\n",
    "X_nowPoly = poly_features.fit_transform(X_now)\n",
    "print(polyModel.predict(X_nowPoly))"
   ]
  },
  {
   "cell_type": "markdown",
   "id": "62adc6c1",
   "metadata": {},
   "source": [
    " What's is your output now?\n",
    " \n",
    "For 2015 given arbitrarty values for subsequent values of X_new as: [1784,1500,200], result is: [10.61491686]\n",
    "\n",
    "For 2021 given arbitrary values for X_now as:[2312,1000,700], result is: [10.9842155]\n",
    "\n",
    "🗹 Do you think it makes a more accurate prediction? Why?\n",
    "\n",
    "**Provide reasoning here**\n"
   ]
  },
  {
   "cell_type": "code",
   "execution_count": null,
   "id": "5c6f528c",
   "metadata": {},
   "outputs": [],
   "source": []
  }
 ],
 "metadata": {
  "kernelspec": {
   "display_name": "Python 3",
   "language": "python",
   "name": "python3"
  },
  "language_info": {
   "codemirror_mode": {
    "name": "ipython",
    "version": 3
   },
   "file_extension": ".py",
   "mimetype": "text/x-python",
   "name": "python",
   "nbconvert_exporter": "python",
   "pygments_lexer": "ipython3",
   "version": "3.8.8"
  }
 },
 "nbformat": 4,
 "nbformat_minor": 5
}
